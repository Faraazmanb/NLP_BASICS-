{
 "cells": [
  {
   "cell_type": "markdown",
   "id": "6a5b6d7f",
   "metadata": {},
   "source": [
    "### Exercise 1: Basic Text Analytics"
   ]
  },
  {
   "cell_type": "code",
   "execution_count": 8,
   "id": "d7b12b5a",
   "metadata": {},
   "outputs": [
    {
     "name": "stdout",
     "output_type": "stream",
     "text": [
      "True\n",
      "25\n",
      "4\n",
      "glitters\n",
      "srettilg\n",
      "Allgold\n",
      "['All', 'glitters', 'not']\n",
      "old\n",
      "dlog ton si srettilg taht llA\n",
      "llA taht srettilg si ton dlog\n"
     ]
    }
   ],
   "source": [
    "# Assign the given sentence to a variable\n",
    "sentence = 'All that glitters is not gold'\n",
    "\n",
    "# Check if the word 'glitters' belongs to the text\n",
    "print('glitters' in sentence)\n",
    "# Output: True\n",
    "\n",
    "# Find the index value of the word 'gold'\n",
    "print(sentence.index('gold'))\n",
    "# Output:25\n",
    "\n",
    "# Find the rank of the word 'not'\n",
    "print(sentence.split().index('not'))\n",
    "# Output: 4\n",
    "\n",
    "# Print the third word of the text\n",
    "print(sentence.split()[2])\n",
    "# Output: 'glitters'\n",
    "\n",
    "# Print the third word of the text in reverse order\n",
    "print(sentence.split()[2][::-1])\n",
    "# Output: 'srettilg'\n",
    "\n",
    "# Concatenate the first and last words of the text\n",
    "words = sentence.split()\n",
    "first_word = words[0]\n",
    "last_word = words[-1]  # Alternatively: last_word = words[len(words)-1]\n",
    "concat_word = first_word + last_word\n",
    "print(concat_word)\n",
    "# Output: 'Allgold'\n",
    "\n",
    "# Print words at even positions\n",
    "print([words[i] for i in range(len(words)) if i%2 == 0])\n",
    "#Output: ['All', 'glitters', 'not']\n",
    "\n",
    "# Print the last three letters of the text\n",
    "print(sentence[-3:])\n",
    "# Output: 'old'\n",
    "\n",
    "# Print the text in reverse order\n",
    "print(sentence[::-1])\n",
    "# Output: 'dlog ton si srettilg taht llA'\n",
    "\n",
    "# Print each word of the text in reverse order, maintaining their sequence\n",
    "print(' '.join([word[::-1] for word in words]))\n",
    "# Output: 'llA taht srettilg si ton dlog'\n"
   ]
  },
  {
   "cell_type": "markdown",
   "id": "a32f1f92",
   "metadata": {},
   "source": [
    "### Exercise 2: Tokenization of a Simple Sentence"
   ]
  },
  {
   "cell_type": "code",
   "execution_count": 10,
   "id": "357345c6",
   "metadata": {},
   "outputs": [
    {
     "name": "stdout",
     "output_type": "stream",
     "text": [
      "['I', 'am', 'Faraazman', 'reading', 'NLP', 'Fundamentals']\n"
     ]
    },
    {
     "name": "stderr",
     "output_type": "stream",
     "text": [
      "[nltk_data] Downloading package punkt to\n",
      "[nltk_data]     C:\\Users\\ELCOT\\AppData\\Roaming\\nltk_data...\n",
      "[nltk_data]   Package punkt is already up-to-date!\n"
     ]
    }
   ],
   "source": [
    "# Importing necessary libraries\n",
    "import nltk\n",
    "nltk.download('punkt')\n",
    "from nltk import word_tokenize\n",
    "\n",
    "# Tokenize the sentence\n",
    "words = word_tokenize(\"I am Faraazman reading NLP Fundamentals\")\n",
    "\n",
    "# Print the list of tokens\n",
    "print(words)"
   ]
  },
  {
   "cell_type": "markdown",
   "id": "84670675",
   "metadata": {},
   "source": [
    "### Exercise 3: PoS Tagging"
   ]
  },
  {
   "cell_type": "code",
   "execution_count": 13,
   "id": "0b8d04ed",
   "metadata": {},
   "outputs": [
    {
     "name": "stdout",
     "output_type": "stream",
     "text": [
      "['I', 'am', 'Faraaz', 'reading', 'NLP', 'Fundamentals']\n",
      "[('I', 'PRP'), ('am', 'VBP'), ('Faraaz', 'JJ'), ('reading', 'NN'), ('NLP', 'NNP'), ('Fundamentals', 'NNS')]\n"
     ]
    },
    {
     "name": "stderr",
     "output_type": "stream",
     "text": [
      "[nltk_data] Downloading package averaged_perceptron_tagger to\n",
      "[nltk_data]     C:\\Users\\ELCOT\\AppData\\Roaming\\nltk_data...\n",
      "[nltk_data]   Package averaged_perceptron_tagger is already up-to-\n",
      "[nltk_data]       date!\n"
     ]
    }
   ],
   "source": [
    "# Importing necessary libraries\n",
    "import nltk\n",
    "nltk.download('averaged_perceptron_tagger')\n",
    "from nltk import word_tokenize\n",
    "\n",
    "# Tokenize the sentence\n",
    "words = word_tokenize(\"I am Faraaz reading NLP Fundamentals\")\n",
    "\n",
    "# Print the tokens\n",
    "print(words)\n",
    "\n",
    "# Perform PoS tagging\n",
    "pos_tags = nltk.pos_tag(words)\n",
    "\n",
    "# Print the PoS tags\n",
    "print(pos_tags)"
   ]
  },
  {
   "cell_type": "markdown",
   "id": "24c62399",
   "metadata": {},
   "source": [
    "### Exercise 4: Stop Word Removal"
   ]
  },
  {
   "cell_type": "code",
   "execution_count": 16,
   "id": "684001fd",
   "metadata": {},
   "outputs": [
    {
     "name": "stdout",
     "output_type": "stream",
     "text": [
      "['i', 'me', 'my', 'myself', 'we', 'our', 'ours', 'ourselves', 'you', \"you're\", \"you've\", \"you'll\", \"you'd\", 'your', 'yours', 'yourself', 'yourselves', 'he', 'him', 'his', 'himself', 'she', \"she's\", 'her', 'hers', 'herself', 'it', \"it's\", 'its', 'itself', 'they', 'them', 'their', 'theirs', 'themselves', 'what', 'which', 'who', 'whom', 'this', 'that', \"that'll\", 'these', 'those', 'am', 'is', 'are', 'was', 'were', 'be', 'been', 'being', 'have', 'has', 'had', 'having', 'do', 'does', 'did', 'doing', 'a', 'an', 'the', 'and', 'but', 'if', 'or', 'because', 'as', 'until', 'while', 'of', 'at', 'by', 'for', 'with', 'about', 'against', 'between', 'into', 'through', 'during', 'before', 'after', 'above', 'below', 'to', 'from', 'up', 'down', 'in', 'out', 'on', 'off', 'over', 'under', 'again', 'further', 'then', 'once', 'here', 'there', 'when', 'where', 'why', 'how', 'all', 'any', 'both', 'each', 'few', 'more', 'most', 'other', 'some', 'such', 'no', 'nor', 'not', 'only', 'own', 'same', 'so', 'than', 'too', 'very', 's', 't', 'can', 'will', 'just', 'don', \"don't\", 'should', \"should've\", 'now', 'd', 'll', 'm', 'o', 're', 've', 'y', 'ain', 'aren', \"aren't\", 'couldn', \"couldn't\", 'didn', \"didn't\", 'doesn', \"doesn't\", 'hadn', \"hadn't\", 'hasn', \"hasn't\", 'haven', \"haven't\", 'isn', \"isn't\", 'ma', 'mightn', \"mightn't\", 'mustn', \"mustn't\", 'needn', \"needn't\", 'shan', \"shan't\", 'shouldn', \"shouldn't\", 'wasn', \"wasn't\", 'weren', \"weren't\", 'won', \"won't\", 'wouldn', \"wouldn't\"]\n",
      "['I', 'am', 'learning', 'DSA', '.', 'It', 'is', 'one', 'of', 'the', 'most', 'asked', 'subject', 'during', 'the', 'interviews']\n",
      "----------------------------------------------------\n",
      "The sentencce after stopwords removal is  :  learning DSA . one asked subject interviews\n"
     ]
    },
    {
     "name": "stderr",
     "output_type": "stream",
     "text": [
      "[nltk_data] Downloading package stopwords to\n",
      "[nltk_data]     C:\\Users\\ELCOT\\AppData\\Roaming\\nltk_data...\n",
      "[nltk_data]   Package stopwords is already up-to-date!\n"
     ]
    }
   ],
   "source": [
    "# Importing necessary libraries\n",
    "import nltk\n",
    "from nltk import word_tokenize\n",
    "from nltk.corpus import stopwords\n",
    "\n",
    "# Download the stopwords corpus (if not already downloaded)\n",
    "nltk.download('stopwords')\n",
    "\n",
    "# Get the list of stopwords for the English language\n",
    "stop_words = stopwords.words('english')\n",
    "\n",
    "# Print the list of stopwords\n",
    "print(stop_words)\n",
    "\n",
    "# Define the sentence from which we want to remove stopwords\n",
    "sentence = \"I am learning DSA. It is one of the most asked subject during the interviews\"\n",
    "\n",
    "# Tokenize the sentence into words\n",
    "sentence_words = word_tokenize(sentence)\n",
    "\n",
    "# Print the list of tokens\n",
    "print(sentence_words)\n",
    "\n",
    "# Remove stopwords from the sentence\n",
    "sentence_no_stops = ' '.join([word for word in sentence_words if word.lower() not in stop_words])\n",
    "\n",
    "print('----------------------------------------------------')\n",
    "# Print the sentence without stopwords\n",
    "print('The sentencce after stopwords removal is  : ',sentence_no_stops)\n"
   ]
  },
  {
   "cell_type": "markdown",
   "id": "b8639952",
   "metadata": {},
   "source": [
    "### Exercise 5: Text Normalization"
   ]
  },
  {
   "cell_type": "code",
   "execution_count": 19,
   "id": "45d63f47",
   "metadata": {},
   "outputs": [
    {
     "name": "stdout",
     "output_type": "stream",
     "text": [
      "I visited United States from United Kingdom on 26-10-2019\n"
     ]
    }
   ],
   "source": [
    "# Assign a string to the sentence variable\n",
    "sentence = \"I visited US from UK on 26-10-19\"\n",
    "\n",
    "# Replace \"US\" with \"United States\", \"UK\" with \"United Kingdom\", and \"18\" with \"2018\"\n",
    "normalized_sentence = sentence.replace(\"US\", \"United States\").replace(\"UK\", \"United Kingdom\").replace(\"-19\", \"-2019\")\n",
    "\n",
    "# Print the normalized text\n",
    "print(normalized_sentence)"
   ]
  },
  {
   "cell_type": "markdown",
   "id": "155d36b1",
   "metadata": {},
   "source": [
    "### Exercise 6: Spelling Correction of a Word and a Sentence"
   ]
  },
  {
   "cell_type": "code",
   "execution_count": 18,
   "id": "7273c5c8",
   "metadata": {},
   "outputs": [],
   "source": [
    "!pip install -q -U autocorrect"
   ]
  },
  {
   "cell_type": "code",
   "execution_count": 25,
   "id": "3e219530",
   "metadata": {},
   "outputs": [
    {
     "name": "stdout",
     "output_type": "stream",
     "text": [
      "countries\n",
      "['All', 'thit', 'glittevs', 'is', 'not', 'golde']\n",
      "All that glitter is not gold\n"
     ]
    }
   ],
   "source": [
    "# Importing necessary libraries\n",
    "import nltk\n",
    "from nltk import word_tokenize\n",
    "from autocorrect import Speller\n",
    "\n",
    "# Correct the spelling of a word\n",
    "spell_checker = Speller()\n",
    "corrected_word = spell_checker('countaries')\n",
    "print(corrected_word)\n",
    "\n",
    "# Tokenize the sentence into words\n",
    "sentence = word_tokenize(\"All thit glittevs is not golde\")\n",
    "\n",
    "# Print the tokens\n",
    "print(sentence)\n",
    "\n",
    "# Correct the spelling of each word in the sentence\n",
    "sentence_corrected = ' '.join([spell_checker(word) for word in sentence])\n",
    "\n",
    "# Print the corrected sentence\n",
    "print(sentence_corrected)\n"
   ]
  },
  {
   "cell_type": "markdown",
   "id": "123cfcaf",
   "metadata": {},
   "source": [
    "### Exercise 7: Stemming"
   ]
  },
  {
   "cell_type": "code",
   "execution_count": 38,
   "id": "1b45ab35",
   "metadata": {},
   "outputs": [
    {
     "name": "stdout",
     "output_type": "stream",
     "text": [
      "product\n",
      "come\n",
      "fire\n",
      "argu\n"
     ]
    }
   ],
   "source": [
    "# Importing necessary libraries\n",
    "import nltk\n",
    "stemmer = nltk.stem.PorterStemmer()\n",
    "\n",
    "# Stem the word \"production\"\n",
    "print(stemmer.stem(\"production\"))\n",
    "\n",
    "# Stem the word \"coming\"\n",
    "print(stemmer.stem(\"coming\"))\n",
    "\n",
    "# Stem the word \"firing\"\n",
    "print(stemmer.stem(\"firing\"))\n",
    "\n",
    "# Stem the word \"argueing\"\n",
    "print(stemmer.stem(\"argueing\"))\n"
   ]
  },
  {
   "cell_type": "markdown",
   "id": "ceb57c79",
   "metadata": {},
   "source": [
    "### Exercise 8: Extracting the base word using Lemmatization"
   ]
  },
  {
   "cell_type": "code",
   "execution_count": 41,
   "id": "4eaab4dc",
   "metadata": {},
   "outputs": [
    {
     "name": "stdout",
     "output_type": "stream",
     "text": [
      "product\n",
      "production\n",
      "coming\n",
      "arguing\n"
     ]
    },
    {
     "name": "stderr",
     "output_type": "stream",
     "text": [
      "[nltk_data] Downloading package wordnet to\n",
      "[nltk_data]     C:\\Users\\ELCOT\\AppData\\Roaming\\nltk_data...\n",
      "[nltk_data]   Package wordnet is already up-to-date!\n"
     ]
    }
   ],
   "source": [
    "# Importing necessary libraries\n",
    "import nltk\n",
    "from nltk.stem.wordnet import WordNetLemmatizer\n",
    "\n",
    "# Download the WordNet dataset (if not already downloaded)\n",
    "nltk.download('wordnet')\n",
    "\n",
    "# Create an object of the WordNetLemmatizer class\n",
    "lemmatizer = WordNetLemmatizer()\n",
    "\n",
    "# Lemmatize the word \"products\"\n",
    "print(lemmatizer.lemmatize('products'))\n",
    "\n",
    "# Lemmatize the word \"production\"\n",
    "print(lemmatizer.lemmatize('production'))\n",
    "\n",
    "# Lemmatize the word \"coming\"\n",
    "print(lemmatizer.lemmatize('coming'))\n",
    "\n",
    "# Lemmatize the word \"argueing\"\n",
    "print(lemmatizer.lemmatize(\"arguing\"))"
   ]
  },
  {
   "cell_type": "markdown",
   "id": "6faa3032",
   "metadata": {},
   "source": [
    "### Exercise 9: Treating Named Entities"
   ]
  },
  {
   "cell_type": "code",
   "execution_count": 48,
   "id": "326e1883",
   "metadata": {},
   "outputs": [
    {
     "name": "stdout",
     "output_type": "stream",
     "text": [
      "[Tree('NE', [('TechHub', 'NNP')])]\n",
      "-----------------------------------------------------------------\n",
      "[Tree('NE', [('TechHub', 'NNP')])]\n"
     ]
    },
    {
     "name": "stderr",
     "output_type": "stream",
     "text": [
      "[nltk_data] Downloading package maxent_ne_chunker to\n",
      "[nltk_data]     C:\\Users\\ELCOT\\AppData\\Roaming\\nltk_data...\n",
      "[nltk_data]   Package maxent_ne_chunker is already up-to-date!\n",
      "[nltk_data] Downloading package words to\n",
      "[nltk_data]     C:\\Users\\ELCOT\\AppData\\Roaming\\nltk_data...\n",
      "[nltk_data]   Package words is already up-to-date!\n"
     ]
    }
   ],
   "source": [
    "# Importing necessary libraries\n",
    "import nltk\n",
    "from nltk import word_tokenize\n",
    "from nltk import ne_chunk\n",
    "\n",
    "# Download the necessary datasets (if not already downloaded)\n",
    "nltk.download('maxent_ne_chunker')\n",
    "nltk.download('words')\n",
    "\n",
    "# Declare the sentence variable\n",
    "sentence = \"The team participated in a hackathon organized by TechHub, a renowned tech community headquartered in Silicon Valley\"\n",
    "\n",
    "# Find named entities in the sentence\n",
    "tokenized_sentence = word_tokenize(sentence)\n",
    "pos_tags = nltk.pos_tag(tokenized_sentence)\n",
    "named_entities = ne_chunk(pos_tags, binary=True)\n",
    "\n",
    "# Filter out named entities from the result\n",
    "named_entities_list = [a for a in named_entities if len(a)==1]\n",
    "\n",
    "# Print the named entities\n",
    "print(named_entities_list)\n",
    "\n",
    "print(\"-----------------------------------------------------------------\")\n",
    "print(named_entities_list)"
   ]
  },
  {
   "cell_type": "markdown",
   "id": "e0a1d5b7",
   "metadata": {},
   "source": [
    "### Exercise 10: Word Sense Disambiguation"
   ]
  },
  {
   "cell_type": "code",
   "execution_count": 46,
   "id": "bdcb606c",
   "metadata": {},
   "outputs": [
    {
     "name": "stdout",
     "output_type": "stream",
     "text": [
      "Synset('savings_bank.n.02')\n",
      "Synset('bank.v.07')\n"
     ]
    }
   ],
   "source": [
    "# Importing necessary libraries\n",
    "import nltk\n",
    "from nltk.wsd import lesk\n",
    "from nltk import word_tokenize\n",
    "\n",
    "\n",
    "# Declare two variables, sentence1 and sentence2\n",
    "sentence1 = \"Keep your savings in the bank\"\n",
    "sentence2 = \"It's so risky to drive over the banks of the road\"\n",
    "\n",
    "# Find the sense of the word \"bank\" in sentence1\n",
    "sense1 = lesk(word_tokenize(sentence1), 'bank')\n",
    "print(sense1)\n",
    "\n",
    "# Find the sense of the word \"bank\" in sentence2\n",
    "sense2 = lesk(word_tokenize(sentence2), 'bank')\n",
    "print(sense2)"
   ]
  },
  {
   "cell_type": "markdown",
   "id": "20adb647",
   "metadata": {},
   "source": [
    "### Exercise 11: Sentence Boundary Detection"
   ]
  },
  {
   "cell_type": "code",
   "execution_count": 50,
   "id": "9df817d1",
   "metadata": {},
   "outputs": [
    {
     "name": "stdout",
     "output_type": "stream",
     "text": [
      "['We just finished watching a movie.', 'Have you figured out who directed it?', \"Oh, it's Christopher Nolan.\", 'Nolan is known for his distinctive filmmaking style, and he hails from London.']\n"
     ]
    }
   ],
   "source": [
    "# Importing necessary libraries\n",
    "import nltk\n",
    "from nltk.tokenize import sent_tokenize\n",
    "\n",
    "# Use sent_tokenize method to detect sentences in a given text\n",
    "sentences = sent_tokenize(\"We just finished watching a movie. Have you figured out who directed it? Oh, it's Christopher Nolan. Nolan is known for his distinctive filmmaking style, and he hails from London.\")\n",
    "# Print the list of sentences\n",
    "print(sentences)\n"
   ]
  }
 ],
 "metadata": {
  "kernelspec": {
   "display_name": "Python 3 (ipykernel)",
   "language": "python",
   "name": "python3"
  },
  "language_info": {
   "codemirror_mode": {
    "name": "ipython",
    "version": 3
   },
   "file_extension": ".py",
   "mimetype": "text/x-python",
   "name": "python",
   "nbconvert_exporter": "python",
   "pygments_lexer": "ipython3",
   "version": "3.10.6"
  }
 },
 "nbformat": 4,
 "nbformat_minor": 5
}
